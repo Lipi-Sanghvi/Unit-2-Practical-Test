{
 "cells": [
  {
   "cell_type": "code",
   "execution_count": 1,
   "id": "a83ea986",
   "metadata": {
    "scrolled": true
   },
   "outputs": [],
   "source": [
    "import numpy as np\n",
    "import pandas as pd\n",
    "import tensorflow as tf\n",
    "import matplotlib.pyplot as plt\n",
    "import seaborn as sns\n",
    "\n",
    "from tensorflow import keras\n",
    "from keras.datasets import mnist\n",
    "from keras.preprocessing.image import ImageDataGenerator\n",
    "from keras import models, layers\n",
    "from keras.layers import Dense, GlobalAveragePooling2D, Conv2D, MaxPool2D, Flatten, Dropout\n",
    "from keras.callbacks import EarlyStopping\n",
    "from keras.applications.vgg16 import VGG16\n",
    "from keras.applications.vgg19 import VGG19\n",
    "from keras.applications.resnet import ResNet50\n",
    "from keras.models import Model, Sequential\n",
    "\n",
    "import os, shutil \n",
    "from os import listdir\n",
    "from os.path import isfile, join\n",
    "\n",
    "from sklearn.metrics import multilabel_confusion_matrix\n",
    "from sklearn.metrics import confusion_matrix\n",
    "\n",
    "import random"
   ]
  },
  {
   "cell_type": "code",
   "execution_count": 2,
   "id": "f17d376e",
   "metadata": {},
   "outputs": [],
   "source": [
    "(X_train,y_train) , (X_test,y_test)=mnist.load_data()"
   ]
  },
  {
   "cell_type": "code",
   "execution_count": 3,
   "id": "d9a78040",
   "metadata": {},
   "outputs": [],
   "source": [
    "X_train = X_train.reshape((X_train.shape[0], X_train.shape[1], X_train.shape[2], 1))\n",
    "X_test = X_test.reshape((X_test.shape[0],X_test.shape[1],X_test.shape[2],1))"
   ]
  },
  {
   "cell_type": "code",
   "execution_count": 4,
   "id": "7e3a6f41",
   "metadata": {},
   "outputs": [
    {
     "name": "stdout",
     "output_type": "stream",
     "text": [
      "(60000, 28, 28, 1)\n",
      "(10000, 28, 28, 1)\n"
     ]
    }
   ],
   "source": [
    "print(X_train.shape)\n",
    "print(X_test.shape)"
   ]
  },
  {
   "cell_type": "code",
   "execution_count": 5,
   "id": "464419b1",
   "metadata": {},
   "outputs": [],
   "source": [
    "X_train=X_train/255\n",
    "X_test=X_test/255"
   ]
  },
  {
   "cell_type": "code",
   "execution_count": 6,
   "id": "d390cc15",
   "metadata": {},
   "outputs": [],
   "source": [
    "model=Sequential()\n",
    "model.add(Conv2D(32,(3,3),activation='relu',input_shape=(28,28,1))),\n",
    "model.add(MaxPool2D(2,2)),\n",
    "model.add(Flatten()),\n",
    "model.add(Dense(100,activation='relu')),\n",
    "model.add(Dense(10,activation='softmax'))"
   ]
  },
  {
   "cell_type": "code",
   "execution_count": 7,
   "id": "bdae36dd",
   "metadata": {},
   "outputs": [],
   "source": [
    "model.compile(loss='sparse_categorical_crossentropy',optimizer='adam',metrics=['accuracy'])"
   ]
  },
  {
   "cell_type": "code",
   "execution_count": 8,
   "id": "239eee5f",
   "metadata": {},
   "outputs": [
    {
     "name": "stdout",
     "output_type": "stream",
     "text": [
      "Epoch 1/10\n",
      "1875/1875 [==============================] - 29s 15ms/step - loss: 0.1593 - accuracy: 0.9523\n",
      "Epoch 2/10\n",
      "1875/1875 [==============================] - 29s 15ms/step - loss: 0.0550 - accuracy: 0.9831\n",
      "Epoch 3/10\n",
      "1875/1875 [==============================] - 28s 15ms/step - loss: 0.0346 - accuracy: 0.9892\n",
      "Epoch 4/10\n",
      "1875/1875 [==============================] - 28s 15ms/step - loss: 0.0237 - accuracy: 0.9926\n",
      "Epoch 5/10\n",
      "1875/1875 [==============================] - 28s 15ms/step - loss: 0.0168 - accuracy: 0.9946\n",
      "Epoch 6/10\n",
      "1875/1875 [==============================] - 28s 15ms/step - loss: 0.0113 - accuracy: 0.9963\n",
      "Epoch 7/10\n",
      "1875/1875 [==============================] - 28s 15ms/step - loss: 0.0091 - accuracy: 0.9968\n",
      "Epoch 8/10\n",
      "1875/1875 [==============================] - 28s 15ms/step - loss: 0.0065 - accuracy: 0.9980\n",
      "Epoch 9/10\n",
      "1875/1875 [==============================] - 28s 15ms/step - loss: 0.0056 - accuracy: 0.9981\n",
      "Epoch 10/10\n",
      "1875/1875 [==============================] - 29s 15ms/step - loss: 0.0052 - accuracy: 0.9983\n"
     ]
    },
    {
     "data": {
      "text/plain": [
       "<keras.callbacks.History at 0x187295c1910>"
      ]
     },
     "execution_count": 8,
     "metadata": {},
     "output_type": "execute_result"
    }
   ],
   "source": [
    "model.fit(X_train,y_train,epochs=10)"
   ]
  },
  {
   "cell_type": "markdown",
   "id": "a5b944fc",
   "metadata": {},
   "source": [
    "# Transfer Learning"
   ]
  },
  {
   "cell_type": "markdown",
   "id": "6c2bedc4",
   "metadata": {},
   "source": [
    "# Data preparation****"
   ]
  },
  {
   "cell_type": "code",
   "execution_count": 9,
   "id": "2790c0c5",
   "metadata": {},
   "outputs": [],
   "source": [
    "batch_size = 32\n",
    "target_size = (224,224)\n",
    "input_shape = (224, 224, 3)"
   ]
  },
  {
   "cell_type": "code",
   "execution_count": 10,
   "id": "32515cc0",
   "metadata": {},
   "outputs": [
    {
     "name": "stdout",
     "output_type": "stream",
     "text": [
      "Found 412 images belonging to 5 classes.\n",
      "Found 49 images belonging to 5 classes.\n",
      "Found 49 images belonging to 5 classes.\n"
     ]
    }
   ],
   "source": [
    "#Fetching train data and validation data and processing the data\n",
    "train_datagen = ImageDataGenerator(rescale = 1.00 / 255.0)\n",
    "val_datagen = ImageDataGenerator(rescale = 1.00 / 255.0)\n",
    "test_datagen = ImageDataGenerator(rescale = 1.00 / 255.0)\n",
    "\n",
    "train_generator = train_datagen.flow_from_directory(\n",
    "    r\"C:\\Users\\Aalap.LIPI\\OneDrive\\Desktop\\New folder\\Fruit and Vegetable dataset\\train\",\n",
    "    target_size = target_size,\n",
    "    batch_size = batch_size\n",
    "\n",
    ")\n",
    "\n",
    "validation_generator = val_datagen.flow_from_directory(\n",
    "    r\"C:\\Users\\Aalap.LIPI\\OneDrive\\Desktop\\New folder\\Fruit and Vegetable dataset\\validation\",\n",
    "    target_size = target_size,\n",
    "    batch_size = batch_size\n",
    ")\n",
    "\n",
    "test_generator = test_datagen.flow_from_directory(\n",
    "    r\"C:\\Users\\Aalap.LIPI\\OneDrive\\Desktop\\New folder\\Fruit and Vegetable dataset\\test\",\n",
    "    target_size = target_size,\n",
    "    batch_size = batch_size\n",
    ")"
   ]
  },
  {
   "cell_type": "code",
   "execution_count": 11,
   "id": "bf9aae7b",
   "metadata": {},
   "outputs": [],
   "source": [
    "classes_list = ['apple', 'banana', 'beetroot', 'cabbage', 'capsicum']"
   ]
  },
  {
   "cell_type": "code",
   "execution_count": 17,
   "id": "4cd1db16",
   "metadata": {},
   "outputs": [
    {
     "name": "stdout",
     "output_type": "stream",
     "text": [
      "Downloading data from https://storage.googleapis.com/tensorflow/keras-applications/vgg16/vgg16_weights_tf_dim_ordering_tf_kernels_notop.h5\n",
      "58892288/58889256 [==============================] - 438s 7us/step\n",
      "58900480/58889256 [==============================] - 438s 7us/step\n"
     ]
    }
   ],
   "source": [
    "model_vgg16 = VGG16(weights='imagenet', include_top=False, input_shape=input_shape)\n",
    "model_vgg19 = VGG19(weights='imagenet', include_top=False, input_shape=input_shape)\n",
    "model_resnet = ResNet50(weights='imagenet', include_top=False, input_shape=input_shape)\n",
    "model_vgg16.trainable = False\n",
    "model_vgg19.trainable = False\n",
    "model_resnet.trainable = False"
   ]
  },
  {
   "cell_type": "markdown",
   "id": "016cde13",
   "metadata": {},
   "source": [
    "# VGG16"
   ]
  },
  {
   "cell_type": "code",
   "execution_count": 18,
   "id": "825a9551",
   "metadata": {},
   "outputs": [
    {
     "name": "stdout",
     "output_type": "stream",
     "text": [
      "Model: \"vgg16\"\n",
      "_________________________________________________________________\n",
      " Layer (type)                Output Shape              Param #   \n",
      "=================================================================\n",
      " input_3 (InputLayer)        [(None, 224, 224, 3)]     0         \n",
      "                                                                 \n",
      " block1_conv1 (Conv2D)       (None, 224, 224, 64)      1792      \n",
      "                                                                 \n",
      " block1_conv2 (Conv2D)       (None, 224, 224, 64)      36928     \n",
      "                                                                 \n",
      " block1_pool (MaxPooling2D)  (None, 112, 112, 64)      0         \n",
      "                                                                 \n",
      " block2_conv1 (Conv2D)       (None, 112, 112, 128)     73856     \n",
      "                                                                 \n",
      " block2_conv2 (Conv2D)       (None, 112, 112, 128)     147584    \n",
      "                                                                 \n",
      " block2_pool (MaxPooling2D)  (None, 56, 56, 128)       0         \n",
      "                                                                 \n",
      " block3_conv1 (Conv2D)       (None, 56, 56, 256)       295168    \n",
      "                                                                 \n",
      " block3_conv2 (Conv2D)       (None, 56, 56, 256)       590080    \n",
      "                                                                 \n",
      " block3_conv3 (Conv2D)       (None, 56, 56, 256)       590080    \n",
      "                                                                 \n",
      " block3_pool (MaxPooling2D)  (None, 28, 28, 256)       0         \n",
      "                                                                 \n",
      " block4_conv1 (Conv2D)       (None, 28, 28, 512)       1180160   \n",
      "                                                                 \n",
      " block4_conv2 (Conv2D)       (None, 28, 28, 512)       2359808   \n",
      "                                                                 \n",
      " block4_conv3 (Conv2D)       (None, 28, 28, 512)       2359808   \n",
      "                                                                 \n",
      " block4_pool (MaxPooling2D)  (None, 14, 14, 512)       0         \n",
      "                                                                 \n",
      " block5_conv1 (Conv2D)       (None, 14, 14, 512)       2359808   \n",
      "                                                                 \n",
      " block5_conv2 (Conv2D)       (None, 14, 14, 512)       2359808   \n",
      "                                                                 \n",
      " block5_conv3 (Conv2D)       (None, 14, 14, 512)       2359808   \n",
      "                                                                 \n",
      " block5_pool (MaxPooling2D)  (None, 7, 7, 512)         0         \n",
      "                                                                 \n",
      "=================================================================\n",
      "Total params: 14,714,688\n",
      "Trainable params: 0\n",
      "Non-trainable params: 14,714,688\n",
      "_________________________________________________________________\n"
     ]
    }
   ],
   "source": [
    "model_vgg16.summary()"
   ]
  },
  {
   "cell_type": "code",
   "execution_count": 20,
   "id": "71cd4ea5",
   "metadata": {},
   "outputs": [
    {
     "name": "stdout",
     "output_type": "stream",
     "text": [
      "Model: \"model_1\"\n",
      "_________________________________________________________________\n",
      " Layer (type)                Output Shape              Param #   \n",
      "=================================================================\n",
      " input_3 (InputLayer)        [(None, 224, 224, 3)]     0         \n",
      "                                                                 \n",
      " block1_conv1 (Conv2D)       (None, 224, 224, 64)      1792      \n",
      "                                                                 \n",
      " block1_conv2 (Conv2D)       (None, 224, 224, 64)      36928     \n",
      "                                                                 \n",
      " block1_pool (MaxPooling2D)  (None, 112, 112, 64)      0         \n",
      "                                                                 \n",
      " block2_conv1 (Conv2D)       (None, 112, 112, 128)     73856     \n",
      "                                                                 \n",
      " block2_conv2 (Conv2D)       (None, 112, 112, 128)     147584    \n",
      "                                                                 \n",
      " block2_pool (MaxPooling2D)  (None, 56, 56, 128)       0         \n",
      "                                                                 \n",
      " block3_conv1 (Conv2D)       (None, 56, 56, 256)       295168    \n",
      "                                                                 \n",
      " block3_conv2 (Conv2D)       (None, 56, 56, 256)       590080    \n",
      "                                                                 \n",
      " block3_conv3 (Conv2D)       (None, 56, 56, 256)       590080    \n",
      "                                                                 \n",
      " block3_pool (MaxPooling2D)  (None, 28, 28, 256)       0         \n",
      "                                                                 \n",
      " block4_conv1 (Conv2D)       (None, 28, 28, 512)       1180160   \n",
      "                                                                 \n",
      " block4_conv2 (Conv2D)       (None, 28, 28, 512)       2359808   \n",
      "                                                                 \n",
      " block4_conv3 (Conv2D)       (None, 28, 28, 512)       2359808   \n",
      "                                                                 \n",
      " block4_pool (MaxPooling2D)  (None, 14, 14, 512)       0         \n",
      "                                                                 \n",
      " block5_conv1 (Conv2D)       (None, 14, 14, 512)       2359808   \n",
      "                                                                 \n",
      " block5_conv2 (Conv2D)       (None, 14, 14, 512)       2359808   \n",
      "                                                                 \n",
      " block5_conv3 (Conv2D)       (None, 14, 14, 512)       2359808   \n",
      "                                                                 \n",
      " block5_pool (MaxPooling2D)  (None, 7, 7, 512)         0         \n",
      "                                                                 \n",
      " global_average_pooling2d_1   (None, 512)              0         \n",
      " (GlobalAveragePooling2D)                                        \n",
      "                                                                 \n",
      " dense_6 (Dense)             (None, 1024)              525312    \n",
      "                                                                 \n",
      " dense_7 (Dense)             (None, 512)               524800    \n",
      "                                                                 \n",
      " dense_8 (Dense)             (None, 256)               131328    \n",
      "                                                                 \n",
      " dense_9 (Dense)             (None, 5)                 1285      \n",
      "                                                                 \n",
      "=================================================================\n",
      "Total params: 15,897,413\n",
      "Trainable params: 1,182,725\n",
      "Non-trainable params: 14,714,688\n",
      "_________________________________________________________________\n"
     ]
    }
   ],
   "source": [
    "# add new classifier layers\n",
    "flat1 = model_vgg16.layers[-1].output\n",
    "# flat1 = Flat(flat1)\n",
    "flat1 = GlobalAveragePooling2D()(flat1)\n",
    "class1 = layers.Dense(1024, activation='relu')(flat1)\n",
    "class1 = layers.Dense(512, activation='relu')(class1)\n",
    "class1 = layers.Dense(256, activation='relu')(class1)\n",
    "output = layers.Dense(5, activation='softmax')(class1)\n",
    "# define new model\n",
    "model = Model(inputs=model_vgg16.inputs, outputs=output)\n",
    "model.compile(\n",
    "  loss = \"categorical_crossentropy\",\n",
    "  optimizer=\"adam\",\n",
    "  metrics = [\"acc\"]\n",
    ")\n",
    "# summarize\n",
    "model.summary()"
   ]
  },
  {
   "cell_type": "code",
   "execution_count": 21,
   "id": "2cec7980",
   "metadata": {},
   "outputs": [],
   "source": [
    "es = EarlyStopping(monitor='val_loss', mode='min', verbose=1, patience=5)"
   ]
  },
  {
   "cell_type": "code",
   "execution_count": 22,
   "id": "9f89e7d0",
   "metadata": {},
   "outputs": [
    {
     "name": "stdout",
     "output_type": "stream",
     "text": [
      "Epoch 1/25\n",
      "13/13 [==============================] - 110s 8s/step - loss: 1.4479 - acc: 0.4053 - val_loss: 0.8088 - val_acc: 0.7959\n",
      "Epoch 2/25\n",
      "13/13 [==============================] - 106s 8s/step - loss: 0.8472 - acc: 0.7112 - val_loss: 0.3882 - val_acc: 0.8980\n",
      "Epoch 3/25\n",
      "13/13 [==============================] - 105s 8s/step - loss: 0.4433 - acc: 0.8568 - val_loss: 0.2203 - val_acc: 0.9184\n",
      "Epoch 4/25\n",
      "13/13 [==============================] - 105s 8s/step - loss: 0.2658 - acc: 0.9078 - val_loss: 0.1780 - val_acc: 0.9184\n",
      "Epoch 5/25\n",
      "13/13 [==============================] - 115s 9s/step - loss: 0.1775 - acc: 0.9296 - val_loss: 0.2708 - val_acc: 0.8980\n",
      "Epoch 6/25\n",
      "13/13 [==============================] - 115s 9s/step - loss: 0.1897 - acc: 0.9248 - val_loss: 0.2291 - val_acc: 0.8980\n",
      "Epoch 7/25\n",
      "13/13 [==============================] - 110s 8s/step - loss: 0.1082 - acc: 0.9709 - val_loss: 0.1899 - val_acc: 0.9388\n",
      "Epoch 8/25\n",
      "13/13 [==============================] - 103s 8s/step - loss: 0.1037 - acc: 0.9563 - val_loss: 0.1524 - val_acc: 0.9388\n",
      "Epoch 9/25\n",
      "13/13 [==============================] - 103s 8s/step - loss: 0.0844 - acc: 0.9757 - val_loss: 0.2083 - val_acc: 0.8980\n",
      "Epoch 10/25\n",
      "13/13 [==============================] - 107s 8s/step - loss: 0.0388 - acc: 0.9951 - val_loss: 0.1991 - val_acc: 0.9184\n",
      "Epoch 11/25\n",
      "13/13 [==============================] - 106s 8s/step - loss: 0.0247 - acc: 1.0000 - val_loss: 0.1901 - val_acc: 0.9388\n",
      "Epoch 12/25\n",
      "13/13 [==============================] - 113s 9s/step - loss: 0.0165 - acc: 0.9951 - val_loss: 0.2153 - val_acc: 0.9388\n",
      "Epoch 13/25\n",
      "13/13 [==============================] - 110s 8s/step - loss: 0.0113 - acc: 1.0000 - val_loss: 0.1953 - val_acc: 0.9388\n",
      "Epoch 13: early stopping\n"
     ]
    }
   ],
   "source": [
    "#Training the model with train data and judging this training with validation data\n",
    "history1 = model.fit(\n",
    "    train_generator,\n",
    "    batch_size=batch_size,\n",
    "    epochs = 25,\n",
    "    validation_data = validation_generator, \n",
    "    callbacks=[es],\n",
    "    verbose=1)"
   ]
  },
  {
   "cell_type": "code",
   "execution_count": 23,
   "id": "26aa9777",
   "metadata": {},
   "outputs": [
    {
     "data": {
      "image/png": "[encoded data removed]",
      "text/plain": [
       "<Figure size 432x288 with 1 Axes>"
      ]
     },
     "metadata": {
      "needs_background": "light"
     },
     "output_type": "display_data"
    },
    {
     "data": {
      "image/png": "[encoded data removed]",
      "text/plain": [
       "<Figure size 432x288 with 1 Axes>"
      ]
     },
     "metadata": {
      "needs_background": "light"
     },
     "output_type": "display_data"
    }
   ],
   "source": [
    "# Plot the train results\n",
    "acc = history1.history['acc']\n",
    "val_acc = history1.history['val_acc']\n",
    "loss = history1.history['loss']\n",
    "val_loss = history1.history['val_loss']\n",
    "epochs = range(1, len(acc) + 1)\n",
    "plt.plot(epochs, acc, label='Training acc')\n",
    "plt.plot(epochs, val_acc, label='Validation acc')\n",
    "plt.title('Training and validation accuracy')\n",
    "plt.legend()\n",
    "plt.figure()\n",
    "plt.plot(epochs, loss, label='Training loss')\n",
    "plt.plot(epochs, val_loss, label='Validation loss')\n",
    "plt.title('Training and validation loss')\n",
    "plt.legend()\n",
    "plt.show()"
   ]
  },
  {
   "cell_type": "code",
   "execution_count": 24,
   "id": "ca2dee35",
   "metadata": {},
   "outputs": [
    {
     "data": {
      "text/plain": [
       "array([[5, 0, 2, 0, 3],\n",
       "       [0, 3, 1, 3, 2],\n",
       "       [1, 2, 4, 2, 1],\n",
       "       [3, 2, 1, 2, 2],\n",
       "       [2, 1, 2, 3, 2]], dtype=int64)"
      ]
     },
     "execution_count": 24,
     "metadata": {},
     "output_type": "execute_result"
    }
   ],
   "source": [
    "test_preds = model.predict(test_generator)\n",
    "test_pred_labels = np.argmax(test_preds, axis=1)\n",
    "cm = confusion_matrix(test_generator.classes, test_pred_labels)\n",
    "cm"
   ]
  },
  {
   "cell_type": "code",
   "execution_count": 25,
   "id": "83585261",
   "metadata": {},
   "outputs": [],
   "source": [
    "def plot_confusion_matrix(cm,\n",
    "                      classes, \n",
    "                      normalized=False, \n",
    "                      title=None, \n",
    "                      cmap=plt.cm.Blues,\n",
    "                      size=(16,12)):\n",
    "    fig, ax = plt.subplots(figsize=size)\n",
    "    im = ax.imshow(cm, interpolation='nearest', cmap=cmap)\n",
    "    ax.figure.colorbar(im, ax=ax)"
   ]
  },
  {
   "cell_type": "code",
   "execution_count": 26,
   "id": "3c2a957d",
   "metadata": {},
   "outputs": [
    {
     "data": {
      "image/png": "[encoded data removed]",
      "text/plain": [
       "<Figure size 504x504 with 2 Axes>"
      ]
     },
     "metadata": {
      "needs_background": "light"
     },
     "output_type": "display_data"
    }
   ],
   "source": [
    "plot_confusion_matrix(cm,\n",
    "                      classes_list, \n",
    "                      normalized=True, \n",
    "                      title=\"Model Performance\", \n",
    "                      cmap=plt.cm.Blues,\n",
    "                      size=(7, 7))"
   ]
  },
  {
   "cell_type": "code",
   "execution_count": 27,
   "id": "f025ad2f",
   "metadata": {},
   "outputs": [
    {
     "name": "stdout",
     "output_type": "stream",
     "text": [
      "2/2 [==============================] - 12s 4s/step - loss: 0.1954 - acc: 0.9388\n"
     ]
    }
   ],
   "source": [
    "result = model.evaluate(test_generator)"
   ]
  },
  {
   "cell_type": "markdown",
   "id": "241ce44e",
   "metadata": {},
   "source": [
    "# VGG19"
   ]
  },
  {
   "cell_type": "code",
   "execution_count": null,
   "id": "f8b1f874",
   "metadata": {},
   "outputs": [],
   "source": [
    "model_vgg19.summary()"
   ]
  },
  {
   "cell_type": "code",
   "execution_count": null,
   "id": "c372fdbd",
   "metadata": {},
   "outputs": [],
   "source": [
    "# add new classifier layers\n",
    "flat1 = model_vgg19.layers[-1].output\n",
    "# flat1 = Flat(flat1)\n",
    "flat1 = GlobalAveragePooling2D()(flat1)\n",
    "class1 = layers.Dense(1024, activation='relu')(flat1)\n",
    "class1 = layers.Dense(512, activation='relu')(class1)\n",
    "class1 = layers.Dense(256, activation='relu')(class1)\n",
    "output = layers.Dense(5, activation='softmax')(class1)\n",
    "# define new model\n",
    "model = Model(inputs=model_vgg19.inputs, outputs=output)\n",
    "model.compile(\n",
    "  loss = \"categorical_crossentropy\",\n",
    "  optimizer=\"adam\",\n",
    "  metrics = [\"acc\"]\n",
    ")\n",
    "# summarize\n",
    "model.summary()"
   ]
  },
  {
   "cell_type": "code",
   "execution_count": null,
   "id": "c6fcc4bd",
   "metadata": {},
   "outputs": [],
   "source": [
    "es = EarlyStopping(monitor='val_loss', mode='min', verbose=1, patience=5)"
   ]
  },
  {
   "cell_type": "code",
   "execution_count": null,
   "id": "15b59f92",
   "metadata": {},
   "outputs": [],
   "source": [
    "#Training the model with train data and judging this training with validation data\n",
    "history2 = model.fit(\n",
    "    train_generator,\n",
    "    batch_size=batch_size,\n",
    "    epochs = 25,\n",
    "    validation_data = validation_generator, \n",
    "    callbacks=[es],\n",
    "    verbose=1)"
   ]
  },
  {
   "cell_type": "code",
   "execution_count": null,
   "id": "2d31200c",
   "metadata": {},
   "outputs": [],
   "source": [
    "# Plot the train results\n",
    "acc = history2.history['acc']\n",
    "val_acc = history2.history['val_acc']\n",
    "loss = history2.history['loss']\n",
    "val_loss = history2.history['val_loss']\n",
    "epochs = range(1, len(acc) + 1)\n",
    "plt.plot(epochs, acc, label='Training acc')\n",
    "plt.plot(epochs, val_acc, label='Validation acc')\n",
    "plt.title('Training and validation accuracy')\n",
    "plt.legend()\n",
    "plt.figure()\n",
    "plt.plot(epochs, loss, label='Training loss')\n",
    "plt.plot(epochs, val_loss, label='Validation loss')\n",
    "plt.title('Training and validation loss')\n",
    "plt.legend()\n",
    "plt.show()"
   ]
  },
  {
   "cell_type": "code",
   "execution_count": null,
   "id": "45fc2d6c",
   "metadata": {},
   "outputs": [],
   "source": [
    "test_preds = model.predict(test_generator)\n",
    "test_pred_labels = np.argmax(test_preds, axis=1)\n",
    "cm = confusion_matrix(test_generator.classes, test_pred_labels)\n",
    "cm"
   ]
  },
  {
   "cell_type": "code",
   "execution_count": null,
   "id": "1ec8f457",
   "metadata": {},
   "outputs": [],
   "source": [
    "def plot_confusion_matrix(cm,\n",
    "                      classes, \n",
    "                      normalized=False, \n",
    "                      title=None, \n",
    "                      cmap=plt.cm.Blues,\n",
    "                      size=(16,12)):\n",
    "    fig, ax = plt.subplots(figsize=size)\n",
    "    im = ax.imshow(cm, interpolation='nearest', cmap=cmap)\n",
    "    ax.figure.colorbar(im, ax=ax)"
   ]
  },
  {
   "cell_type": "code",
   "execution_count": null,
   "id": "686af219",
   "metadata": {},
   "outputs": [],
   "source": [
    "plot_confusion_matrix(cm,\n",
    "                      classes_list, \n",
    "                      normalized=True, \n",
    "                      title=\"Model Performance\", \n",
    "                      cmap=plt.cm.Blues,\n",
    "                      size=(7, 7))"
   ]
  },
  {
   "cell_type": "code",
   "execution_count": null,
   "id": "ad49ddfa",
   "metadata": {},
   "outputs": [],
   "source": [
    "result = model.evaluate(test_generator)"
   ]
  },
  {
   "cell_type": "markdown",
   "id": "a1225d95",
   "metadata": {},
   "source": [
    "# ResNet50 "
   ]
  },
  {
   "cell_type": "code",
   "execution_count": null,
   "id": "74f7fabb",
   "metadata": {},
   "outputs": [],
   "source": [
    "model_resnet.summary()"
   ]
  },
  {
   "cell_type": "code",
   "execution_count": null,
   "id": "7c076ace",
   "metadata": {},
   "outputs": [],
   "source": [
    "# add new classifier layers\n",
    "flat1 = model_resnet.layers[-1].output\n",
    "flat1 = GlobalAveragePooling2D()(flat1)\n",
    "class1 = layers.Dense(1024, activation='relu')(flat1)\n",
    "class1 = layers.Dense(512, activation='relu')(class1)\n",
    "class1 = layers.Dense(256, activation='relu')(class1)\n",
    "output = layers.Dense(5, activation='softmax')(class1)\n",
    "# define new model\n",
    "model = Model(inputs=model_resnet.inputs, outputs=output)\n",
    "model.compile(\n",
    "  loss = \"categorical_crossentropy\",\n",
    "  optimizer=\"adam\",\n",
    "  metrics = [\"acc\"]\n",
    ")\n",
    "# summarize\n",
    "model.summary()"
   ]
  },
  {
   "cell_type": "code",
   "execution_count": null,
   "id": "6267d964",
   "metadata": {},
   "outputs": [],
   "source": [
    "#Training the model with train data and judging this training with validation data\n",
    "history3 = model.fit(\n",
    "    train_generator,\n",
    "    batch_size=batch_size,\n",
    "    epochs = 20,\n",
    "    validation_data = validation_generator, \n",
    "    callbacks=[es],\n",
    "    verbose=1)"
   ]
  },
  {
   "cell_type": "code",
   "execution_count": null,
   "id": "99a0e454",
   "metadata": {},
   "outputs": [],
   "source": [
    "# Plot the train results\n",
    "acc = history3.history['acc']\n",
    "val_acc = history3.history['val_acc']\n",
    "loss = history3.history['loss']\n",
    "val_loss = history3.history['val_loss']\n",
    "epochs = range(1, len(acc) + 1)\n",
    "plt.plot(epochs, acc, label='Training acc')\n",
    "plt.plot(epochs, val_acc, label='Validation acc')\n",
    "plt.title('Training and validation accuracy')\n",
    "plt.legend()\n",
    "plt.figure()\n",
    "plt.plot(epochs, loss, label='Training loss')\n",
    "plt.plot(epochs, val_loss, label='Validation loss')\n",
    "plt.title('Training and validation loss')\n",
    "plt.legend()\n",
    "plt.show()"
   ]
  },
  {
   "cell_type": "code",
   "execution_count": null,
   "id": "f0bdc81b",
   "metadata": {},
   "outputs": [],
   "source": [
    "test_preds = model.predict(test_generator)\n",
    "test_pred_labels = np.argmax(test_preds, axis=1)\n",
    "cm = confusion_matrix(test_generator.classes, test_pred_labels)\n",
    "cm"
   ]
  },
  {
   "cell_type": "code",
   "execution_count": null,
   "id": "7b4db3b3",
   "metadata": {},
   "outputs": [],
   "source": [
    "plot_confusion_matrix(cm,\n",
    "                      classes_list, \n",
    "                      normalized=True, \n",
    "                      title=\"Model Performance\", \n",
    "                      cmap=plt.cm.Blues,\n",
    "                      size=(7, 7))"
   ]
  },
  {
   "cell_type": "code",
   "execution_count": null,
   "id": "c0e9b174",
   "metadata": {},
   "outputs": [],
   "source": [
    "result = model.evaluate(test_generator)"
   ]
  }
 ],
 "metadata": {
  "kernelspec": {
   "display_name": "Lipi",
   "language": "python",
   "name": "lipi"
  },
  "language_info": {
   "codemirror_mode": {
    "name": "ipython",
    "version": 3
   },
   "file_extension": ".py",
   "mimetype": "text/x-python",
   "name": "python",
   "nbconvert_exporter": "python",
   "pygments_lexer": "ipython3",
   "version": "3.9.12"
  }
 },
 "nbformat": 4,
 "nbformat_minor": 5
}
